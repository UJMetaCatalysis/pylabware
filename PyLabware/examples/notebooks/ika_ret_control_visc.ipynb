{
 "cells": [
  {
   "cell_type": "code",
   "execution_count": 1,
   "metadata": {},
   "outputs": [],
   "source": [
    "import logging\n",
    "fh = logging.FileHandler('ika_ret_control_visc.log')\n",
    "ch = logging.StreamHandler()\n",
    "ch.setLevel(logging.INFO)\n",
    "\n",
    "logging.basicConfig(\n",
    "    format='%(asctime)s - %(name)s - %(levelname)s - %(message)s',\n",
    "    level=logging.DEBUG,\n",
    "    handlers=[fh, ch]\n",
    ")\n",
    "\n",
    "logging.getLogger('parso').setLevel(logging.WARNING)\n",
    "\n",
    "from PyLabware import RETControlViscHotplate"
   ]
  },
  {
   "cell_type": "code",
   "execution_count": 2,
   "metadata": {},
   "outputs": [
    {
     "name": "stderr",
     "output_type": "stream",
     "text": [
      "2020-03-21 20:16:06,727 - PyLabware.connections.TCPIPConnection - INFO - Creating connection object with the following settings: \n",
      "{'port': '5000', 'address': '192.168.1.100', 'baudrate': 9600, 'bytesize': 7, 'parity': 'E'}\n"
     ]
    }
   ],
   "source": [
    "stirrer = RETControlViscHotplate(device_name=\"test\", port=\"5000\", connection_mode=\"tcpip\", address=\"192.168.1.100\", auto_connect=False)"
   ]
  },
  {
   "cell_type": "code",
   "execution_count": 3,
   "metadata": {},
   "outputs": [
    {
     "name": "stdout",
     "output_type": "stream",
     "text": [
      "<PyLabware.devices.ika_ret_control_visc.RETControlViscHotplate object at 0x000002C5A71C4550>\n"
     ]
    }
   ],
   "source": [
    "print(stirrer)"
   ]
  },
  {
   "cell_type": "code",
   "execution_count": 4,
   "metadata": {},
   "outputs": [
    {
     "name": "stderr",
     "output_type": "stream",
     "text": [
      "2020-03-21 20:16:08,014 - PyLabware.connections.TCPIPConnection - INFO - Starting connection listener...\n",
      "2020-03-21 20:16:08,016 - PyLabware.connections.TCPIPConnection - INFO - Opened connection to <192.168.1.100:5000>\n",
      "2020-03-21 20:16:08,017 - PyLabware.controllers.RETControlViscHotplate.test - INFO - Opened connection.\n"
     ]
    }
   ],
   "source": [
    "stirrer.connect()"
   ]
  },
  {
   "cell_type": "code",
   "execution_count": 5,
   "metadata": {},
   "outputs": [
    {
     "name": "stderr",
     "output_type": "stream",
     "text": [
      "2020-03-21 20:16:09,925 - PyLabware.controllers.RETControlViscHotplate.test - INFO - Sent message <'IN_NAME\\r\\n'>\n",
      "2020-03-21 20:16:10,549 - PyLabware.controllers.RETControlViscHotplate.test - INFO - Raw reply from the device: <'IKARET\\r\\n'>\n"
     ]
    },
    {
     "data": {
      "text/plain": [
       "True"
      ]
     },
     "execution_count": 5,
     "metadata": {},
     "output_type": "execute_result"
    }
   ],
   "source": [
    "stirrer.is_connected()"
   ]
  },
  {
   "cell_type": "code",
   "execution_count": 6,
   "metadata": {},
   "outputs": [
    {
     "name": "stderr",
     "output_type": "stream",
     "text": [
      "2020-03-21 20:16:12,558 - PyLabware.controllers.RETControlViscHotplate.test - INFO - Sent message <'IN_VERSION\\r\\n'>\n",
      "2020-03-21 20:16:13,183 - PyLabware.controllers.RETControlViscHotplate.test - INFO - Raw reply from the device: <'11068\\r\\n'>\n"
     ]
    },
    {
     "data": {
      "text/plain": [
       "'11068'"
      ]
     },
     "execution_count": 6,
     "metadata": {},
     "output_type": "execute_result"
    }
   ],
   "source": [
    "stirrer.send(stirrer.cmd.GET_VERSION)"
   ]
  },
  {
   "cell_type": "code",
   "execution_count": 7,
   "metadata": {},
   "outputs": [
    {
     "name": "stderr",
     "output_type": "stream",
     "text": [
      "2020-03-21 20:16:54,376 - PyLabware.controllers.RETControlViscHotplate.test - INFO - Sent message <'OUT_SP_4 1000\\r\\n'>\n"
     ]
    }
   ],
   "source": [
    "stirrer.set_speed(1000)"
   ]
  },
  {
   "cell_type": "code",
   "execution_count": 8,
   "metadata": {},
   "outputs": [
    {
     "name": "stderr",
     "output_type": "stream",
     "text": [
      "2020-03-21 20:17:09,268 - PyLabware.controllers.RETControlViscHotplate.test - INFO - Sent message <'IN_PV_4\\r\\n'>\n",
      "2020-03-21 20:17:09,891 - PyLabware.controllers.RETControlViscHotplate.test - INFO - Raw reply from the device: <'0.0 4\\r\\n'>\n"
     ]
    },
    {
     "data": {
      "text/plain": [
       "0.0"
      ]
     },
     "execution_count": 8,
     "metadata": {},
     "output_type": "execute_result"
    }
   ],
   "source": [
    "stirrer.get_speed()"
   ]
  },
  {
   "cell_type": "code",
   "execution_count": 9,
   "metadata": {},
   "outputs": [
    {
     "name": "stderr",
     "output_type": "stream",
     "text": [
      "2020-03-21 20:17:34,206 - PyLabware.controllers.RETControlViscHotplate.test - INFO - Sent message <'START_4\\r\\n'>\n"
     ]
    }
   ],
   "source": [
    "stirrer.start_stirring()"
   ]
  },
  {
   "cell_type": "code",
   "execution_count": 10,
   "metadata": {},
   "outputs": [
    {
     "name": "stderr",
     "output_type": "stream",
     "text": [
      "2020-03-21 20:17:41,439 - PyLabware.controllers.RETControlViscHotplate.test - INFO - Sent message <'IN_PV_4\\r\\n'>\n",
      "2020-03-21 20:17:42,063 - PyLabware.controllers.RETControlViscHotplate.test - INFO - Raw reply from the device: <'640.0 4\\r\\n'>\n"
     ]
    },
    {
     "data": {
      "text/plain": [
       "640.0"
      ]
     },
     "execution_count": 10,
     "metadata": {},
     "output_type": "execute_result"
    }
   ],
   "source": [
    "stirrer.get_speed()"
   ]
  },
  {
   "cell_type": "code",
   "execution_count": 14,
   "metadata": {},
   "outputs": [
    {
     "name": "stderr",
     "output_type": "stream",
     "text": [
      "2020-03-21 20:19:15,149 - PyLabware.controllers.RETControlViscHotplate.test - INFO - Sent message <'STOP_4\\r\\n'>\n"
     ]
    }
   ],
   "source": [
    "stirrer.stop_stirring()"
   ]
  },
  {
   "cell_type": "code",
   "execution_count": 15,
   "metadata": {},
   "outputs": [
    {
     "name": "stderr",
     "output_type": "stream",
     "text": [
      "2020-03-21 20:19:22,859 - PyLabware.controllers.RETControlViscHotplate.test - INFO - Sent message <'IN_PV_4\\r\\n'>\n",
      "2020-03-21 20:19:23,482 - PyLabware.controllers.RETControlViscHotplate.test - INFO - Raw reply from the device: <'0.0 4\\r\\n'>\n"
     ]
    },
    {
     "data": {
      "text/plain": [
       "0.0"
      ]
     },
     "execution_count": 15,
     "metadata": {},
     "output_type": "execute_result"
    }
   ],
   "source": [
    "stirrer.get_speed()"
   ]
  },
  {
   "cell_type": "code",
   "execution_count": 16,
   "metadata": {},
   "outputs": [
    {
     "name": "stderr",
     "output_type": "stream",
     "text": [
      "2020-03-21 20:19:33,933 - PyLabware.controllers.RETControlViscHotplate.test - INFO - Sent message <'IN_PV_2\\r\\n'>\n",
      "2020-03-21 20:19:34,556 - PyLabware.controllers.RETControlViscHotplate.test - INFO - Raw reply from the device: <'22.6 2\\r\\n'>\n"
     ]
    },
    {
     "data": {
      "text/plain": [
       "22.6"
      ]
     },
     "execution_count": 16,
     "metadata": {},
     "output_type": "execute_result"
    }
   ],
   "source": [
    "stirrer.get_temperature()"
   ]
  },
  {
   "cell_type": "code",
   "execution_count": 17,
   "metadata": {},
   "outputs": [
    {
     "name": "stderr",
     "output_type": "stream",
     "text": [
      "2020-03-21 20:19:46,907 - PyLabware.controllers.RETControlViscHotplate.test - INFO - Sent message <'OUT_SP_2 30\\r\\n'>\n"
     ]
    }
   ],
   "source": [
    "stirrer.set_temperature(30)"
   ]
  },
  {
   "cell_type": "code",
   "execution_count": 18,
   "metadata": {},
   "outputs": [
    {
     "name": "stderr",
     "output_type": "stream",
     "text": [
      "2020-03-21 20:20:03,708 - PyLabware.controllers.RETControlViscHotplate.test - INFO - Sent message <'START_1\\r\\n'>\n"
     ]
    }
   ],
   "source": [
    "stirrer.start_heating()"
   ]
  },
  {
   "cell_type": "code",
   "execution_count": 19,
   "metadata": {},
   "outputs": [
    {
     "name": "stderr",
     "output_type": "stream",
     "text": [
      "2020-03-21 20:20:11,196 - PyLabware.controllers.RETControlViscHotplate.test - INFO - Sent message <'IN_PV_2\\r\\n'>\n",
      "2020-03-21 20:20:11,819 - PyLabware.controllers.RETControlViscHotplate.test - INFO - Raw reply from the device: <'23.0 2\\r\\n'>\n"
     ]
    },
    {
     "data": {
      "text/plain": [
       "23.0"
      ]
     },
     "execution_count": 19,
     "metadata": {},
     "output_type": "execute_result"
    }
   ],
   "source": [
    "stirrer.get_temperature()"
   ]
  },
  {
   "cell_type": "code",
   "execution_count": 20,
   "metadata": {},
   "outputs": [
    {
     "name": "stderr",
     "output_type": "stream",
     "text": [
      "2020-03-21 20:20:19,676 - PyLabware.controllers.RETControlViscHotplate.test - INFO - Sent message <'STOP_1\\r\\n'>\n"
     ]
    }
   ],
   "source": [
    "stirrer.stop_heating()"
   ]
  },
  {
   "cell_type": "code",
   "execution_count": 21,
   "metadata": {},
   "outputs": [
    {
     "name": "stderr",
     "output_type": "stream",
     "text": [
      "2020-03-21 20:20:27,924 - PyLabware.controllers.RETControlViscHotplate.test - INFO - Sent message <'IN_PV_2\\r\\n'>\n",
      "2020-03-21 20:20:28,546 - PyLabware.controllers.RETControlViscHotplate.test - INFO - Raw reply from the device: <'25.0 2\\r\\n'>\n"
     ]
    },
    {
     "data": {
      "text/plain": [
       "25.0"
      ]
     },
     "execution_count": 21,
     "metadata": {},
     "output_type": "execute_result"
    }
   ],
   "source": [
    "stirrer.get_temperature()"
   ]
  },
  {
   "cell_type": "code",
   "execution_count": null,
   "metadata": {},
   "outputs": [],
   "source": []
  }
 ],
 "metadata": {
  "kernelspec": {
   "display_name": "Python 3",
   "language": "python",
   "name": "python3"
  },
  "language_info": {
   "codemirror_mode": {
    "name": "ipython",
    "version": 3
   },
   "file_extension": ".py",
   "mimetype": "text/x-python",
   "name": "python",
   "nbconvert_exporter": "python",
   "pygments_lexer": "ipython3",
   "version": "3.7.3"
  }
 },
 "nbformat": 4,
 "nbformat_minor": 4
}
