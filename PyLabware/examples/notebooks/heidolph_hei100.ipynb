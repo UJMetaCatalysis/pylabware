{
 "cells": [
  {
   "cell_type": "code",
   "execution_count": null,
   "metadata": {},
   "outputs": [],
   "source": [
    "import ipywidgets\n",
    "import logging\n",
    "\n",
    "from PyLabware import HeiTorque100PrecisionStirrer\n",
    "\n",
    "fh = logging.FileHandler('hei100.log')\n",
    "ch = logging.StreamHandler()\n",
    "ch.setLevel(logging.INFO)\n",
    "\n",
    "logging.basicConfig(\n",
    "    format='%(asctime)s - %(name)s - %(levelname)s - %(message)s',\n",
    "    level=logging.DEBUG,\n",
    "    handlers=[fh, ch]\n",
    ")\n",
    "\n",
    "# Silent ipython loggers\n",
    "logging.getLogger('parso').setLevel(logging.INFO)\n",
    "logging.getLogger('asyncio').setLevel(logging.INFO)\n",
    "\n",
    "# List available COM ports\n",
    "import serial.tools.list_ports\n",
    "ports = []\n",
    "for p in serial.tools.list_ports.comports():\n",
    "    ports.append((p.device, p.description))\n",
    "    \n",
    "# Create callbacks\n",
    "def on_tab_change(change):\n",
    "        global conn_mode, port\n",
    "        if change['new'] == 1:\n",
    "            conn_mode = 'tcpip'\n",
    "            port = t_port.value\n",
    "        else:\n",
    "            conn_mode = 'serial'\n",
    "            port = s_port.value\n",
    "\n",
    "def on_serial_port_change(change):\n",
    "    global port\n",
    "    port = s_port.value\n",
    "\n",
    "def on_tcp_port_change(change):\n",
    "    global port\n",
    "    port = t_port.value\n",
    "    \n",
    "def on_button_clicked(change):\n",
    "    global os\n",
    "    os = HeiTorque100PrecisionStirrer(\n",
    "    device_name='overheadStirrer',\n",
    "    connection_mode=conn_mode,\n",
    "    address = t_address.value,\n",
    "    port=port,\n",
    "    auto_connect=False\n",
    "    )\n",
    "\n",
    "# Create widgets\n",
    "# Serial stuff\n",
    "s_port = ipywidgets.Dropdown(options=[(dev[1], dev[0]) for dev in ports], value=ports[0][0], description='Serial port:')\n",
    "s_baudrate = ipywidgets.Dropdown(options=[50, 75, 110, 134, 150, 200, 300, 600, 1200, 1800, 2400, 4800,\n",
    "                 9600, 19200, 38400, 57600, 115200], value=9600, description='Baudrate:')\n",
    "s_parity = ipywidgets.Dropdown(options=[('None','N'), ('Even', 'E'),('Odd','O'),('Mark','M'),('Space','S')], value='N', description='Parity:')\n",
    "s_stopbits = ipywidgets.Dropdown(options=[1, 1.5, 2], value=1, description='Stop bits:')\n",
    "s_databits = ipywidgets.Dropdown(options=[5, 6, 7, 8], value=8, description='Data bits:')\n",
    "\n",
    "# TCP/IP stuff\n",
    "t_address = ipywidgets.Text(value='localhost', description='Address:')\n",
    "t_port = ipywidgets.Text(value='5000', description='Port:')\n",
    "t_protocol = ipywidgets.Dropdown(options=['TCP', 'UDP'], value='TCP', description='Protocol:')\n",
    "\n",
    "# Create tabs\n",
    "serial_main = ipywidgets.HBox(children=[s_port, s_baudrate])\n",
    "serial_dataframe = ipywidgets.HBox(children=[s_databits, s_parity, s_stopbits])\n",
    "serial_tab = ipywidgets.VBox(children=[serial_main, serial_dataframe])\n",
    "tcpip_tab = ipywidgets.HBox(children=[t_protocol, t_address, t_port])\n",
    "tabs = ipywidgets.Tab(children=[serial_tab, tcpip_tab])\n",
    "tabs.set_title(0, 'Serial connection')\n",
    "tabs.set_title(1, 'TCP/IP connection')\n",
    "# Bind the callbacks\n",
    "tabs.observe(on_tab_change, names='selected_index')\n",
    "s_port.observe(on_serial_port_change)\n",
    "t_port.observe(on_tcp_port_change)\n",
    "# Create button\n",
    "create_button = ipywidgets.Button(description='Create', tooltip='Create object with the settings above')\n",
    "# Bind the callback\n",
    "create_button.on_click(on_button_clicked)\n",
    "\n",
    "# Show stuff\n",
    "display(tabs, create_button)"
   ]
  },
  {
   "cell_type": "code",
   "execution_count": null,
   "metadata": {},
   "outputs": [],
   "source": [
    "os.is_connected()"
   ]
  },
  {
   "cell_type": "code",
   "execution_count": null,
   "metadata": {},
   "outputs": [],
   "source": [
    "os.connect()"
   ]
  },
  {
   "cell_type": "code",
   "execution_count": null,
   "metadata": {},
   "outputs": [],
   "source": [
    "os.is_connected()"
   ]
  },
  {
   "cell_type": "code",
   "execution_count": null,
   "metadata": {},
   "outputs": [],
   "source": [
    "os.initialise_device()"
   ]
  },
  {
   "cell_type": "code",
   "execution_count": null,
   "metadata": {},
   "outputs": [],
   "source": [
    "os.identify()"
   ]
  },
  {
   "cell_type": "code",
   "execution_count": null,
   "metadata": {},
   "outputs": [],
   "source": [
    "os.get_status()"
   ]
  },
  {
   "cell_type": "code",
   "execution_count": null,
   "metadata": {},
   "outputs": [],
   "source": [
    "os.check_error()"
   ]
  },
  {
   "cell_type": "code",
   "execution_count": null,
   "metadata": {},
   "outputs": [],
   "source": [
    "os.clear_error()"
   ]
  },
  {
   "cell_type": "code",
   "execution_count": null,
   "metadata": {},
   "outputs": [],
   "source": [
    "os.is_idle()"
   ]
  },
  {
   "cell_type": "code",
   "execution_count": null,
   "metadata": {},
   "outputs": [],
   "source": [
    "os.set_speed(50)"
   ]
  },
  {
   "cell_type": "code",
   "execution_count": null,
   "metadata": {},
   "outputs": [],
   "source": [
    "os.start()"
   ]
  },
  {
   "cell_type": "code",
   "execution_count": null,
   "metadata": {},
   "outputs": [],
   "source": [
    "os.get_speed()"
   ]
  },
  {
   "cell_type": "code",
   "execution_count": null,
   "metadata": {},
   "outputs": [],
   "source": [
    "os.get_torque()"
   ]
  },
  {
   "cell_type": "code",
   "execution_count": null,
   "metadata": {
    "scrolled": true
   },
   "outputs": [],
   "source": [
    "os.calibrate_torque()"
   ]
  },
  {
   "cell_type": "code",
   "execution_count": null,
   "metadata": {},
   "outputs": [],
   "source": [
    "os.get_torque()"
   ]
  },
  {
   "cell_type": "code",
   "execution_count": null,
   "metadata": {},
   "outputs": [],
   "source": [
    "os.stop()"
   ]
  },
  {
   "cell_type": "code",
   "execution_count": null,
   "metadata": {},
   "outputs": [],
   "source": [
    "os.calibrate_torque()"
   ]
  },
  {
   "cell_type": "code",
   "execution_count": null,
   "metadata": {},
   "outputs": [],
   "source": [
    "# once again\n",
    "os.start()"
   ]
  },
  {
   "cell_type": "code",
   "execution_count": null,
   "metadata": {},
   "outputs": [],
   "source": [
    "os.stop()"
   ]
  },
  {
   "cell_type": "code",
   "execution_count": null,
   "metadata": {},
   "outputs": [],
   "source": [
    "os.disconnect()"
   ]
  }
 ],
 "metadata": {
  "kernelspec": {
   "display_name": "Python 3.8.1 64-bit",
   "language": "python",
   "name": "python38164bit911eba6cacf04b82a01012cf7772c710"
  },
  "language_info": {
   "codemirror_mode": {
    "name": "ipython",
    "version": 3
   },
   "file_extension": ".py",
   "mimetype": "text/x-python",
   "name": "python",
   "nbconvert_exporter": "python",
   "pygments_lexer": "ipython3",
   "version": "3.8.1"
  }
 },
 "nbformat": 4,
 "nbformat_minor": 4
}